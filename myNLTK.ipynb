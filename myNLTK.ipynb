{
 "cells": [
  {
   "cell_type": "code",
   "execution_count": 1,
   "metadata": {
    "collapsed": true
   },
   "outputs": [],
   "source": [
    "import re\n",
    "import numpy as np\n",
    "import nltk\n",
    "\n",
    "from nltk.classify import NaiveBayesClassifier\n",
    "from nltk.corpus import subjectivity\n",
    "from nltk.sentiment import SentimentAnalyzer\n",
    "from nltk.sentiment.util import *\n",
    "from nltk.sentiment.vader import SentimentIntensityAnalyzer"
   ]
  },
  {
   "cell_type": "code",
   "execution_count": 2,
   "metadata": {},
   "outputs": [
    {
     "data": {
      "text/plain": [
       "{'compound': 0.7184, 'neg': 0.0, 'neu': 0.0, 'pos': 1.0}"
      ]
     },
     "execution_count": 2,
     "metadata": {},
     "output_type": "execute_result"
    }
   ],
   "source": [
    "####SAMPLE\n",
    "\n",
    "\n",
    "\n",
    "sentence = \"strong support\"\n",
    "\n",
    "sentence = re.sub('(?<=[.,!?])(?! )', r' ', sentence)\n",
    "\n",
    "\n",
    "sid = SentimentIntensityAnalyzer()\n",
    "ss = sid.polarity_scores(sentence)\n",
    "\n",
    "ss\n",
    "\n",
    "#0.0085\n"
   ]
  },
  {
   "cell_type": "markdown",
   "metadata": {},
   "source": [
    "# NLTK Sentiment without Xutils (one Sheet)"
   ]
  },
  {
   "cell_type": "code",
   "execution_count": 1,
   "metadata": {},
   "outputs": [
    {
     "name": "stderr",
     "output_type": "stream",
     "text": [
      "ERROR:root:Internal Python error in the inspect module.\n",
      "Below is the traceback from this internal error.\n",
      "\n",
      "\n",
      "KeyboardInterrupt\n",
      "\n"
     ]
    }
   ],
   "source": [
    "import numpy as np\n",
    "import pandas as pd\n",
    "from pandas import ExcelWriter\n",
    "import re\n",
    "\n",
    "import nltk\n",
    "from nltk.sentiment.vader import SentimentIntensityAnalyzer\n",
    "\n",
    "\n",
    "FileName = \"Filename.xlsx\"\n",
    "\n",
    "sourceColName = 'Comments'\n",
    "\n",
    "\n",
    "sid = SentimentIntensityAnalyzer()\n",
    "\n",
    "myTable = pd.read_excel(FileName)\n",
    "\n",
    "totalIndex = myTable.shape[1]\n",
    "\n",
    "colIndex = 0\n",
    "for col in myTable:\n",
    "    colIndex+=1\n",
    "    if col == sourceColName:\n",
    "        break\n",
    "        \n",
    "\n",
    "commentSeries = myTable[sourceColName]\n",
    "\n",
    "# for rows in myTable.itertuples():\n",
    "#     myComment = str(rows[7])\n",
    "\n",
    "sentimentsList = []\n",
    "\n",
    "#print (commentSeries)\n",
    "\n",
    "for com in commentSeries:\n",
    "    if com != 'nan' and isinstance(com, str):\n",
    "        #com = re.sub('(?<! )(?<=[.,!?])(?! )', r' ', com)\n",
    "        ss = sid.polarity_scores(com)\n",
    "                \n",
    "        if ss['compound'] > 0:\n",
    "            mySent = 'Positive'\n",
    "        elif ss['compound'] < 0:\n",
    "            mySent = 'Negative'\n",
    "        else:\n",
    "            mySent = 'Neutral'\n",
    "    else:\n",
    "        mySent = ''\n",
    "    \n",
    "    sentimentsList.append(mySent)\n",
    "\n",
    "sent = pd.Series(sentimentsList)    \n",
    "\n",
    "myTable_new = pd.concat([myTable, sent.rename('Sent')], axis = 1)\n",
    "\n",
    "writer = ExcelWriter('Filename output.xlsx')\n",
    "myTable_new.to_excel(writer,'Sheet')\n",
    "writer.save()\n",
    "\n",
    "print ('End')\n"
   ]
  }
 ],
 "metadata": {
  "kernelspec": {
   "display_name": "Python 3",
   "language": "python",
   "name": "python3"
  },
  "language_info": {
   "codemirror_mode": {
    "name": "ipython",
    "version": 3
   },
   "file_extension": ".py",
   "mimetype": "text/x-python",
   "name": "python",
   "nbconvert_exporter": "python",
   "pygments_lexer": "ipython3",
   "version": "3.6.3"
  }
 },
 "nbformat": 4,
 "nbformat_minor": 2
}
