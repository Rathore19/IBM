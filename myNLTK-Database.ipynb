{
 "cells": [
  {
   "cell_type": "code",
   "execution_count": null,
   "metadata": {
    "collapsed": true
   },
   "outputs": [],
   "source": [
    "import re\n",
    "import numpy as np\n",
    "import nltk\n",
    "\n",
    "from nltk.classify import NaiveBayesClassifier\n",
    "from nltk.corpus import subjectivity\n",
    "from nltk.sentiment import SentimentAnalyzer\n",
    "from nltk.sentiment.util import *\n",
    "from nltk.sentiment.vader import SentimentIntensityAnalyzer"
   ]
  },
  {
   "cell_type": "code",
   "execution_count": null,
   "metadata": {
    "collapsed": true
   },
   "outputs": [],
   "source": [
    "#### Database connectivity ####\n",
    "\n",
    "sid = SentimentIntensityAnalyzer()\n",
    "\n",
    "import pypyodbc\n",
    "import pandas as pd\n",
    "import numpy as np\n",
    "\n",
    "myDatabase = \"Test\"\n",
    "Username = \"myUsername\"\n",
    "Password = \"myPassword\"\n",
    "myTable = \"dbo.test_table\"\n",
    "\n",
    "connection = pypyodbc.connect('Driver={SQL Server};Server=localhost;Database='+myDatabase+';uid='+Username+';pwd='+Password)\n",
    "\n",
    "cursor = connection.cursor()\n",
    "succ = cursor.execute(\"ALTER TABLE dbo.test_table ADD Sentiments VARCHAR(50)\")\n",
    "\n",
    "cursor.commit()\n",
    "\n",
    "\n",
    "mysql = \"SELECT [Survey Ticket Number], [Survey Comments] FROM \"+myTable\n",
    "table = pd.read_sql(mysql, connection)\n",
    "\n",
    "                              \n",
    "for rows in table.itertuples():\n",
    "    key = str(rows[1])\n",
    "    myComment = str(rows[2])\n",
    "        \n",
    "    if myComment != \"\" and isinstance(myComment, str):\n",
    "        ss = sid.polarity_scores(myComment)\n",
    "        \n",
    "        if ss['compound'] > 0:\n",
    "            mySent = 'Positive'\n",
    "        elif ss['compound'] < 0:\n",
    "                mySent = 'Negative'\n",
    "        else:\n",
    "            mySent = 'Neutral'\n",
    "            \n",
    "        query = \"UPDATE \" + myTable + \" SET Sentiments='\" + mySent + \"'\" + \"WHERE [Survey Ticket Number]='\" + key + \"'\"\n",
    "        cursor.execute(query)\n",
    "        cursor.commit()\n",
    "\n",
    "cursor.close()\n"
   ]
  }
 ],
 "metadata": {
  "kernelspec": {
   "display_name": "Python 3",
   "language": "python",
   "name": "python3"
  },
  "language_info": {
   "codemirror_mode": {
    "name": "ipython",
    "version": 3
   },
   "file_extension": ".py",
   "mimetype": "text/x-python",
   "name": "python",
   "nbconvert_exporter": "python",
   "pygments_lexer": "ipython3",
   "version": "3.6.3"
  }
 },
 "nbformat": 4,
 "nbformat_minor": 2
}
