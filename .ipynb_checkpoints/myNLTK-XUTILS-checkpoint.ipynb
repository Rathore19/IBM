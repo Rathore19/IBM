{
 "cells": [
  {
   "cell_type": "code",
   "execution_count": null,
   "metadata": {
    "collapsed": true
   },
   "outputs": [],
   "source": [
    "import re\n",
    "import numpy as np\n",
    "import nltk\n",
    "\n",
    "from nltk.classify import NaiveBayesClassifier\n",
    "from nltk.corpus import subjectivity\n",
    "from nltk.sentiment import SentimentAnalyzer\n",
    "from nltk.sentiment.util import *\n",
    "from nltk.sentiment.vader import SentimentIntensityAnalyzer"
   ]
  },
  {
   "cell_type": "code",
   "execution_count": null,
   "metadata": {
    "collapsed": true
   },
   "outputs": [],
   "source": [
    "\n",
    "\n",
    "from openpyxl import Workbook\n",
    "import xlrd\n",
    "import xlwt\n",
    "from xlutils.copy import copy\n",
    "\n",
    "sid = SentimentIntensityAnalyzer()\n",
    "\n",
    "FileName = \"Filename.xlsx\"\n",
    "\n",
    "workbook = xlrd.open_workbook(FileName)\n",
    "\n",
    "numSheets = workbook.nsheets\n",
    "\n",
    "\n",
    "\n",
    "wb = copy(workbook)\n",
    "\n",
    "\n",
    "for sheet in range(numSheets):\n",
    "\n",
    "    worksheet = workbook.sheet_by_index(sheet)\n",
    "    \n",
    "    print (\"sheet: \" + str(sheet))\n",
    "\n",
    "    indexOfTargetColumn = -1\n",
    "    totalColumns = worksheet.ncols\n",
    "\n",
    "    for y in range(0, totalColumns):\n",
    "        if worksheet.cell(0,y).value == \"Comments\":\n",
    "            indexOfTargetColumn = y\n",
    "            break\n",
    "\n",
    "\n",
    "#######################\n",
    "\n",
    "    w_sheet = wb.get_sheet(sheet)\n",
    "\n",
    "    w_sheet.write(0, totalColumns, \"Sentiments\")\n",
    "\n",
    "    #wb.save(\"New.xls\")\n",
    "\n",
    "\n",
    "\n",
    "\n",
    "    totalRows = worksheet.nrows\n",
    "    \n",
    "    print (1)\n",
    "    \n",
    "\n",
    "    if indexOfTargetColumn != -1:\n",
    "        for i in range(1, totalRows):\n",
    "            myComment = worksheet.cell(i, indexOfTargetColumn).value\n",
    "            \n",
    "            if myComment != \"\" and isinstance(myComment, str):\n",
    "                myComment = re.sub('(?<! )(?<=[.,!?])(?! )', r' ', myComment)\n",
    "                ss = sid.polarity_scores(myComment)\n",
    "                \n",
    "\n",
    "                if ss['compound'] > 0:\n",
    "                    mySent = 'Positive'\n",
    "                elif ss['compound'] < 0:\n",
    "                    mySent = 'Negative'\n",
    "                else:\n",
    "                    mySent = 'Neutral'\n",
    "\n",
    "                w_sheet.write(i, totalColumns, mySent)\n",
    "       \n",
    "            \n",
    "wb.save(\"Filename output.xls\")\n",
    "print (\"End\")"
   ]
  }
 ],
 "metadata": {
  "kernelspec": {
   "display_name": "Python 3",
   "language": "python",
   "name": "python3"
  },
  "language_info": {
   "codemirror_mode": {
    "name": "ipython",
    "version": 3
   },
   "file_extension": ".py",
   "mimetype": "text/x-python",
   "name": "python",
   "nbconvert_exporter": "python",
   "pygments_lexer": "ipython3",
   "version": "3.6.3"
  }
 },
 "nbformat": 4,
 "nbformat_minor": 2
}
