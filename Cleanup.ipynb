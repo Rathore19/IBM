{
 "cells": [
  {
   "cell_type": "code",
   "execution_count": 1,
   "metadata": {
    "collapsed": true
   },
   "outputs": [],
   "source": [
    "import re\n",
    "import numpy as np\n",
    "import nltk\n",
    "\n",
    "from nltk.classify import NaiveBayesClassifier\n",
    "from nltk.corpus import subjectivity\n",
    "from nltk.sentiment import SentimentAnalyzer\n",
    "from nltk.sentiment.util import *\n",
    "from nltk.sentiment.vader import SentimentIntensityAnalyzer"
   ]
  },
  {
   "cell_type": "code",
   "execution_count": 3,
   "metadata": {},
   "outputs": [
    {
     "name": "stdout",
     "output_type": "stream",
     "text": [
      "sheet: 0\n",
      "End\n"
     ]
    }
   ],
   "source": [
    "# limiting char length #\n",
    "\n",
    "from openpyxl import Workbook\n",
    "import xlrd\n",
    "import xlwt\n",
    "from xlutils.copy import copy\n",
    "import pandas as pd\n",
    "import numpy as np\n",
    "\n",
    "\n",
    "\n",
    "FileName = \"Filename.xlsx\"\n",
    "\n",
    "workbook = xlrd.open_workbook(FileName)\n",
    "\n",
    "numSheets = workbook.nsheets\n",
    "\n",
    "\n",
    "wb = copy(workbook)\n",
    "\n",
    "\n",
    "for sheet in range(numSheets):\n",
    "\n",
    "    worksheet = workbook.sheet_by_index(sheet)\n",
    "    \n",
    "    print (\"sheet: \" + str(sheet))\n",
    "\n",
    "    indexOfTargetColumn = -1\n",
    "    totalColumns = worksheet.ncols\n",
    "\n",
    "    indexOfTargetColumn = 0\n",
    "    indexOfTargetColumn2 = 1\n",
    "    \n",
    "\n",
    "    w_sheet = wb.get_sheet(sheet)\n",
    "\n",
    "    w_sheet.write(0, totalColumns, \"Num\")\n",
    "    \n",
    "    totalRows = worksheet.nrows\n",
    "    \n",
    "\n",
    "    if indexOfTargetColumn != -1:\n",
    "        for i in range(1, totalRows):\n",
    "            length1 = 0\n",
    "            length2 = 0\n",
    "            TLength = 0\n",
    "            \n",
    "            myComment = worksheet.cell(i, indexOfTargetColumn).value\n",
    "            myCluster = worksheet.cell(i, indexOfTargetColumn2).value\n",
    "            \n",
    "            length1 = len(myComment)\n",
    "            length2 = len(myCluster)\n",
    "            #TLength = length1 + length2\n",
    "            \n",
    "            if length2 != 0 and length1 < 1000:\n",
    "                w_sheet.write(i, totalColumns, 1)\n",
    "       \n",
    "            \n",
    "wb.save(\"Filename output.xls\")\n",
    "print (\"End\")\n"
   ]
  },
  {
   "cell_type": "code",
   "execution_count": 4,
   "metadata": {},
   "outputs": [
    {
     "name": "stdout",
     "output_type": "stream",
     "text": [
      "End\n"
     ]
    }
   ],
   "source": [
    "# Limiting on 1 #\n",
    "\n",
    "\n",
    "from openpyxl import Workbook\n",
    "import xlrd\n",
    "import xlwt\n",
    "from xlutils.copy import copy\n",
    "import pandas as pd\n",
    "import numpy as np\n",
    "\n",
    "\n",
    "\n",
    "df = pd.read_excel('Filename.xls')\n",
    "df2 = df.loc[df['Num'] == 1]\n",
    "\n",
    "\n",
    "writer = pd.ExcelWriter('Filename output.xlsx')\n",
    "df2.to_excel(writer,'Sheet1')\n",
    "writer.save()\n",
    "\n",
    "print ('End')\n"
   ]
  },
  {
   "cell_type": "code",
   "execution_count": 5,
   "metadata": {},
   "outputs": [
    {
     "name": "stdout",
     "output_type": "stream",
     "text": [
      "sheet: 0\n",
      "End\n"
     ]
    }
   ],
   "source": [
    "# Dealing with comma by surrounding the record with '' #\n",
    "\n",
    "from openpyxl import Workbook\n",
    "import xlrd\n",
    "import xlwt\n",
    "from xlutils.copy import copy\n",
    "import pandas as pd\n",
    "import numpy as np\n",
    "\n",
    "\n",
    "\n",
    "FileName = \"Filename.xlsx\"\n",
    "\n",
    "workbook = xlrd.open_workbook(FileName)\n",
    "\n",
    "numSheets = workbook.nsheets\n",
    "\n",
    "\n",
    "wb = copy(workbook)\n",
    "\n",
    "w_sheet = wb.get_sheet(sheet)\n",
    "\n",
    "\n",
    "\n",
    "for sheet in range(numSheets):\n",
    "\n",
    "    worksheet = workbook.sheet_by_index(sheet)\n",
    "    \n",
    "    print (\"sheet: \" + str(sheet))\n",
    "\n",
    "    indexOfTargetColumn = -1\n",
    "    totalColumns = worksheet.ncols\n",
    "\n",
    "    indexOfTargetColumn = 0\n",
    "    indexOfTargetColumn2 = 1\n",
    "    \n",
    "\n",
    "    totalRows = worksheet.nrows\n",
    "    \n",
    "\n",
    "    if indexOfTargetColumn != -1:\n",
    "        for i in range(1, totalRows):\n",
    "                       \n",
    "            myComment = worksheet.cell(i, indexOfTargetColumn).value\n",
    "            mySentiment = worksheet.cell(i, indexOfTargetColumn2).value\n",
    "            \n",
    "            check = myComment.find(',')\n",
    "            \n",
    "            if check != -1:\n",
    "                myComment = \"'\" + myComment + \"'\"\n",
    "                w_sheet.write(i, indexOfTargetColumn, myComment)\n",
    "       \n",
    "            \n",
    "wb.save(\"Filename output.xls\")\n",
    "print (\"End\")\n"
   ]
  }
 ],
 "metadata": {
  "kernelspec": {
   "display_name": "Python 3",
   "language": "python",
   "name": "python3"
  },
  "language_info": {
   "codemirror_mode": {
    "name": "ipython",
    "version": 3
   },
   "file_extension": ".py",
   "mimetype": "text/x-python",
   "name": "python",
   "nbconvert_exporter": "python",
   "pygments_lexer": "ipython3",
   "version": "3.6.3"
  }
 },
 "nbformat": 4,
 "nbformat_minor": 2
}
